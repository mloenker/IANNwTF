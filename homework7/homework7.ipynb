{
 "cells": [
  {
   "cell_type": "code",
   "execution_count": 20,
   "metadata": {},
   "outputs": [
    {
     "name": "stdout",
     "output_type": "stream",
     "text": [
      "The tensorboard extension is already loaded. To reload it, use:\n",
      "  %reload_ext tensorboard\n"
     ]
    }
   ],
   "source": [
    "import tensorflow as tf\n",
    "import tensorflow_datasets as tfds\n",
    "from tensorflow.python.keras.layers import Dense\n",
    "import datetime\n",
    "import numpy as np\n",
    "import matplotlib.pyplot as plt\n",
    "import math\n",
    "import datetime\n",
    "import keras_cv\n",
    "%load_ext tensorboard"
   ]
  },
  {
   "attachments": {},
   "cell_type": "markdown",
   "metadata": {},
   "source": [
    "**Preprocessing**"
   ]
  },
  {
   "cell_type": "code",
   "execution_count": 2,
   "metadata": {},
   "outputs": [
    {
     "name": "stdout",
     "output_type": "stream",
     "text": [
      "WARNING:tensorflow:From c:\\Users\\Moritz\\AppData\\Local\\Programs\\Python\\Python37\\lib\\site-packages\\tensorflow\\python\\autograph\\pyct\\static_analysis\\liveness.py:83: Analyzer.lamba_check (from tensorflow.python.autograph.pyct.static_analysis.liveness) is deprecated and will be removed after 2023-09-23.\n",
      "Instructions for updating:\n",
      "Lambda fuctions will be no more assumed to be used in the statement where they are used, or at least in the same block. https://github.com/tensorflow/tensorflow/issues/56089\n"
     ]
    },
    {
     "name": "stderr",
     "output_type": "stream",
     "text": [
      "WARNING:tensorflow:From c:\\Users\\Moritz\\AppData\\Local\\Programs\\Python\\Python37\\lib\\site-packages\\tensorflow\\python\\autograph\\pyct\\static_analysis\\liveness.py:83: Analyzer.lamba_check (from tensorflow.python.autograph.pyct.static_analysis.liveness) is deprecated and will be removed after 2023-09-23.\n",
      "Instructions for updating:\n",
      "Lambda fuctions will be no more assumed to be used in the statement where they are used, or at least in the same block. https://github.com/tensorflow/tensorflow/issues/56089\n"
     ]
    },
    {
     "name": "stdout",
     "output_type": "stream",
     "text": [
      "<PrefetchDataset element_spec=(TensorSpec(shape=(None, None, 28, 28, 1), dtype=tf.float32, name=None), TensorSpec(shape=(None, None), dtype=tf.int32, name=None))>\n",
      "img shape:  (32, 4, 28, 28, 1) \n",
      "label shape:  (32, 4)\n"
     ]
    }
   ],
   "source": [
    "(train_ds, test_ds) = tfds.load('mnist', split =['train', 'test'], as_supervised = True)\n",
    "def prepare(data, batch_size, sequence_length):\n",
    "    data = data.map(lambda x, t: (tf.cast(x, tf.float32), tf.cast(t, dtype=tf.dtypes.int32)))\n",
    "    data = data.map(lambda x, t: ((x/128.)-1., t))\n",
    "    data = data.window(sequence_length, drop_remainder=True) #windowing\n",
    "\n",
    "    scan_function = lambda state, i: (state*-1, state*i) #alternating signs\n",
    "    scan_function_2 = lambda state, i: (state+i, state+i) #cumulative sum\n",
    "\n",
    "    data = data.map(lambda img, label: (img, label.scan(initial_state=1, scan_func=scan_function)))\n",
    "    data = data.map(lambda img, label: (img, label.scan(initial_state=0, scan_func=scan_function_2)))\n",
    "\n",
    "    data = data.map(lambda img, label: (img.batch(sequence_length).get_single_element(), label.batch(sequence_length).get_single_element()))\n",
    "\n",
    "    data = data.shuffle(1000)\n",
    "    data = data.batch(batch_size)\n",
    "    data = data.prefetch(tf.data.AUTOTUNE)\n",
    "\n",
    "    return data\n",
    "\n",
    "train_data = prepare(train_ds, 32, 4)\n",
    "test_data = prepare(test_ds, 32, 4)\n",
    "\n",
    "print(train_data)\n",
    "\n",
    "for a,b in train_data.take(1):\n",
    "    print(\"img shape: \", a.shape, \"\\nlabel shape: \", b.shape)\n"
   ]
  },
  {
   "attachments": {},
   "cell_type": "markdown",
   "metadata": {},
   "source": [
    "**Convolutional Model**"
   ]
  },
  {
   "cell_type": "code",
   "execution_count": 3,
   "metadata": {},
   "outputs": [],
   "source": [
    "class ConvModel(tf.keras.Model):\n",
    "    def __init__(self):\n",
    "        super(ConvModel, self).__init__()\n",
    "        self.ConvLayer1 = tf.keras.layers.Conv2D(filters=16, kernel_size=3, padding=\"valid\", activation=\"relu\", input_shape=(28, 28, 1))\n",
    "        self.Pool1 = tf.keras.layers.TimeDistributed(tf.keras.layers.MaxPooling2D(pool_size=2,strides=2))\n",
    "        self.BatchNorm1 = tf.keras.layers.TimeDistributed(tf.keras.layers.BatchNormalization())\n",
    "        self.ConvLayer2 = tf.keras.layers.Conv2D(filters=32, kernel_size=3, padding='valid', activation='relu')\n",
    "        self.Pool2= tf.keras.layers.TimeDistributed(tf.keras.layers.GlobalAvgPool2D())\n",
    "        self.Dropout1 = tf.keras.layers.Dropout(0.5)\n",
    "        self.out = tf.keras.layers.Dense(10, activation='softmax')\n",
    "    \n",
    "    def call(self,x):\n",
    "        x = self.ConvLayer1(x)\n",
    "        x = self.Pool1(x)\n",
    "        x = self.BatchNorm1(x)\n",
    "        x = self.ConvLayer2(x)\n",
    "        x = self.Pool2(x)\n",
    "        x = self.Dropout1(x)\n",
    "        x = self.out(x)\n",
    "        return x\n"
   ]
  },
  {
   "attachments": {},
   "cell_type": "markdown",
   "metadata": {},
   "source": [
    "**LSTM Cell**"
   ]
  },
  {
   "cell_type": "code",
   "execution_count": 4,
   "metadata": {},
   "outputs": [],
   "source": [
    "class LSTMModel(tf.keras.layers.AbstractRNNCell):\n",
    "    def __init__(self, units, **kwargs):\n",
    "        super(LSTMModel, self).__init__(**kwargs)\n",
    "        self.units = units\n",
    "\n",
    "        self.forget_gate = tf.keras.layers.Dense(units,\n",
    "                                                 kernel_initializer=tf.keras.initializers.Orthogonal(),\n",
    "                                                 activation=tf.nn.sigmoid)\n",
    "        self.input_gate = tf.keras.layers.Dense(units,\n",
    "                                                kernel_initializer=tf.keras.initializers.Orthogonal(),\n",
    "                                                activation=tf.nn.sigmoid)\n",
    "        self.candidate_gate = tf.keras.layers.Dense(units,\n",
    "                                                    kernel_initializer=tf.keras.initializers.Orthogonal(),\n",
    "                                                    activation=tf.nn.tanh)\n",
    "        self.output_gate = tf.keras.layers.Dense(units,\n",
    "                                                 kernel_initializer=tf.keras.initializers.Orthogonal(),\n",
    "                                                 activation=tf.nn.sigmoid)\n",
    "\n",
    "    @property\n",
    "    def state_size(self):\n",
    "        return [tf.TensorShape([self.units]), tf.TensorShape([self.units])]\n",
    "\n",
    "    @property\n",
    "    def output_size(self):\n",
    "        return [tf.TensorShape([self.units])]\n",
    "\n",
    "    def get_initial_state(self, inputs=None, batch_size=None, dtype=None):\n",
    "        return [tf.zeros([batch_size, self.units]), tf.zeros([batch_size, self.units])]\n",
    "\n",
    "    def call(self, inputs, states):\n",
    "        x = tf.concat([states[0], inputs], -1)\n",
    "  \n",
    "        forget = self.forget_gate(x)\n",
    "        input = self.input_gate(x)\n",
    "        candidate = self.candidate_gate(x)\n",
    "        output = self.output_gate(x)\n",
    "\n",
    "        cell_state = forget*states[1] + input*candidate\n",
    "        hidden_state = output*tf.math.tanh(cell_state)\n",
    "        \n",
    "        return hidden_state, [hidden_state, cell_state]\n"
   ]
  },
  {
   "attachments": {},
   "cell_type": "markdown",
   "metadata": {},
   "source": [
    "**RNN Model**"
   ]
  },
  {
   "cell_type": "code",
   "execution_count": 15,
   "metadata": {},
   "outputs": [],
   "source": [
    "class RNNModel(tf.keras.Model):\n",
    "    def __init__(self):\n",
    "        super().__init__()\n",
    "\n",
    "        self.conv = ConvModel()\n",
    "        self.lstm = LSTMModel(32)\n",
    "        self.lstm = tf.keras.layers.LSTMCell(32)\n",
    "        self.rnn = tf.keras.layers.RNN(self.lstm, return_sequences=True, unroll=False)\n",
    "        self.dense = tf.keras.layers.Dense(1)\n",
    "\n",
    "        self.metrics_list = [tf.keras.metrics.Mean(name=\"loss\"), tf.keras.metrics.CategoricalAccuracy(name=\"accuracy\")]\n",
    "\n",
    "    def call(self, x, training=False, **kwargs):\n",
    "        x = self.conv(x)\n",
    "        x = self.rnn(x)\n",
    "        x = self.dense(x)\n",
    "        return x\n",
    "\n",
    "    @property\n",
    "    def metrics(self):\n",
    "        return self.metrics_list\n",
    "\n",
    "    def reset_metrics(self):\n",
    "        for metric in self.metrics:\n",
    "            metric.reset_state()\n",
    "\n",
    "    def train_step(self, data):\n",
    "        sequence, label = data\n",
    "        with tf.GradientTape() as tape:\n",
    "            output = self(sequence, training=True)\n",
    "            loss = self.compiled_loss(label, output, regularization_losses=self.losses)\n",
    "        gradients = tape.gradient(loss, self.trainable_variables)\n",
    "\n",
    "        self.optimizer.apply_gradients(zip(gradients, self.trainable_variables))\n",
    "\n",
    "        self.metrics[0].update_state(loss)\n",
    "        self.metrics[1].update_state(label, output)\n",
    "\n",
    "        return {m.name: m.result() for m in self.metrics}\n",
    "\n",
    "    def test_step(self, data):\n",
    "        sequence, label = data\n",
    "        output = self(sequence, training=False)\n",
    "        loss = self.compiled_loss(label, output, regularization_losses=self.losses)\n",
    "\n",
    "        self.metrics[0].update_state(loss)\n",
    "        self.metrics[1].update_state(label, output)\n",
    "\n",
    "        return {m.name: m.result() for m in self.metrics}"
   ]
  },
  {
   "attachments": {},
   "cell_type": "markdown",
   "metadata": {},
   "source": [
    "**Training**"
   ]
  },
  {
   "cell_type": "code",
   "execution_count": 17,
   "metadata": {},
   "outputs": [
    {
     "name": "stdout",
     "output_type": "stream",
     "text": [
      "Epoch 1/25\n",
      "469/469 [==============================] - 21s 40ms/step - loss: 26.6948 - accuracy: 0.2525 - val_loss: 24.8465 - val_accuracy: 0.4488\n",
      "Epoch 2/25\n",
      "469/469 [==============================] - 21s 44ms/step - loss: 24.3667 - accuracy: 0.4496 - val_loss: 21.3598 - val_accuracy: 0.4488\n",
      "Epoch 3/25\n",
      "469/469 [==============================] - 17s 35ms/step - loss: 21.0347 - accuracy: 0.4599 - val_loss: 20.6566 - val_accuracy: 0.5512\n",
      "Epoch 4/25\n",
      "469/469 [==============================] - 15s 30ms/step - loss: 20.8764 - accuracy: 0.5009 - val_loss: 20.4461 - val_accuracy: 0.5512\n",
      "Epoch 5/25\n",
      "469/469 [==============================] - 16s 34ms/step - loss: 20.8757 - accuracy: 0.5126 - val_loss: 20.4330 - val_accuracy: 0.5512\n",
      "Epoch 6/25\n",
      "469/469 [==============================] - 15s 32ms/step - loss: 20.8684 - accuracy: 0.5002 - val_loss: 20.5932 - val_accuracy: 0.5512\n",
      "Epoch 7/25\n",
      "469/469 [==============================] - 15s 30ms/step - loss: 19.6291 - accuracy: 0.5733 - val_loss: 18.2074 - val_accuracy: 0.5508\n",
      "Epoch 8/25\n",
      "469/469 [==============================] - 16s 34ms/step - loss: 16.5702 - accuracy: 0.6181 - val_loss: 14.7671 - val_accuracy: 0.6416\n",
      "Epoch 9/25\n",
      "469/469 [==============================] - 14s 30ms/step - loss: 13.3601 - accuracy: 0.6855 - val_loss: 11.7158 - val_accuracy: 0.7208\n",
      "Epoch 10/25\n",
      "469/469 [==============================] - 14s 29ms/step - loss: 10.5783 - accuracy: 0.7450 - val_loss: 7.4311 - val_accuracy: 0.7912\n",
      "Epoch 11/25\n",
      "469/469 [==============================] - 14s 29ms/step - loss: 8.7525 - accuracy: 0.7768 - val_loss: 7.4804 - val_accuracy: 0.8000\n",
      "Epoch 12/25\n",
      "469/469 [==============================] - 14s 29ms/step - loss: 7.8390 - accuracy: 0.7901 - val_loss: 5.7312 - val_accuracy: 0.8272\n",
      "Epoch 13/25\n",
      "469/469 [==============================] - 15s 31ms/step - loss: 7.2731 - accuracy: 0.7923 - val_loss: 5.1098 - val_accuracy: 0.8364\n",
      "Epoch 14/25\n",
      "469/469 [==============================] - 16s 33ms/step - loss: 6.9938 - accuracy: 0.8022 - val_loss: 4.9724 - val_accuracy: 0.8540\n",
      "Epoch 15/25\n",
      "469/469 [==============================] - 15s 32ms/step - loss: 6.5932 - accuracy: 0.8059 - val_loss: 4.9014 - val_accuracy: 0.8496\n",
      "Epoch 16/25\n",
      "469/469 [==============================] - 17s 35ms/step - loss: 6.3424 - accuracy: 0.8091 - val_loss: 4.6953 - val_accuracy: 0.8584\n",
      "Epoch 17/25\n",
      "469/469 [==============================] - 15s 31ms/step - loss: 6.1238 - accuracy: 0.8129 - val_loss: 4.3986 - val_accuracy: 0.8512\n",
      "Epoch 18/25\n",
      "469/469 [==============================] - 15s 31ms/step - loss: 5.9913 - accuracy: 0.8140 - val_loss: 4.6224 - val_accuracy: 0.8404\n",
      "Epoch 19/25\n",
      "469/469 [==============================] - 16s 32ms/step - loss: 5.7993 - accuracy: 0.8159 - val_loss: 4.3785 - val_accuracy: 0.8672\n",
      "Epoch 20/25\n",
      "469/469 [==============================] - 15s 31ms/step - loss: 5.6558 - accuracy: 0.8200 - val_loss: 4.2509 - val_accuracy: 0.8584\n",
      "Epoch 21/25\n",
      "469/469 [==============================] - 15s 32ms/step - loss: 5.5531 - accuracy: 0.8260 - val_loss: 4.2344 - val_accuracy: 0.8740\n",
      "Epoch 22/25\n",
      "469/469 [==============================] - 15s 31ms/step - loss: 5.4516 - accuracy: 0.8221 - val_loss: 4.0402 - val_accuracy: 0.8688\n",
      "Epoch 23/25\n",
      "469/469 [==============================] - 15s 31ms/step - loss: 5.3633 - accuracy: 0.8250 - val_loss: 4.3006 - val_accuracy: 0.8692\n",
      "Epoch 24/25\n",
      "469/469 [==============================] - 19s 40ms/step - loss: 5.2508 - accuracy: 0.8229 - val_loss: 3.9962 - val_accuracy: 0.8580\n",
      "Epoch 25/25\n",
      "469/469 [==============================] - 18s 37ms/step - loss: 5.1761 - accuracy: 0.8248 - val_loss: 3.8208 - val_accuracy: 0.8692\n"
     ]
    }
   ],
   "source": [
    "model = RNNModel()\n",
    "model.compile(optimizer=tf.keras.optimizers.Adam(), loss=tf.keras.losses.MeanSquaredError())\n",
    "history = model.fit(train_data, validation_data=test_data, epochs=25)\n"
   ]
  },
  {
   "cell_type": "code",
   "execution_count": 18,
   "metadata": {},
   "outputs": [
    {
     "name": "stderr",
     "output_type": "stream",
     "text": [
      "WARNING:absl:Found untraced functions such as _update_step_xla, _jit_compiled_convolution_op, _jit_compiled_convolution_op while saving (showing 3 of 3). These functions will not be directly callable after loading.\n"
     ]
    },
    {
     "name": "stdout",
     "output_type": "stream",
     "text": [
      "INFO:tensorflow:Assets written to: rnn_model\\assets\n"
     ]
    },
    {
     "name": "stderr",
     "output_type": "stream",
     "text": [
      "INFO:tensorflow:Assets written to: rnn_model\\assets\n"
     ]
    }
   ],
   "source": [
    "model.save(\"rnn_model\")"
   ]
  },
  {
   "attachments": {},
   "cell_type": "markdown",
   "metadata": {},
   "source": [
    "**Visualization**"
   ]
  },
  {
   "cell_type": "code",
   "execution_count": 19,
   "metadata": {},
   "outputs": [
    {
     "data": {
      "image/png": "[encoded data removed]",
      "text/plain": [
       "<Figure size 432x288 with 1 Axes>"
      ]
     },
     "metadata": {
      "needs_background": "light"
     },
     "output_type": "display_data"
    },
    {
     "data": {
      "image/png": "[encoded data removed]",
      "text/plain": [
       "<Figure size 432x288 with 1 Axes>"
      ]
     },
     "metadata": {
      "needs_background": "light"
     },
     "output_type": "display_data"
    }
   ],
   "source": [
    "plt.plot(history.history[\"loss\"])\n",
    "plt.plot(history.history[\"val_loss\"])\n",
    "plt.legend(labels=[\"train loss\", \"val loss\"])\n",
    "plt.show()\n",
    "\n",
    "plt.plot(history.history[\"accuracy\"])\n",
    "plt.plot(history.history[\"val_accuracy\"])\n",
    "plt.legend(labels=[\"train accuracy\", \"val accuracy\"])\n",
    "plt.show()"
   ]
  },
  {
   "cell_type": "code",
   "execution_count": null,
   "metadata": {},
   "outputs": [
    {
     "data": {
      "text/plain": [
       "Reusing TensorBoard on port 6006 (pid 7456), started 1 day, 17:29:57 ago. (Use '!kill 7456' to kill it.)"
      ]
     },
     "metadata": {},
     "output_type": "display_data"
    },
    {
     "data": {
      "text/html": [
       "\n",
       "      <iframe id=\"tensorboard-frame-abd04ad3cd82f7c9\" width=\"100%\" height=\"800\" frameborder=\"0\">\n",
       "      </iframe>\n",
       "      <script>\n",
       "        (function() {\n",
       "          const frame = document.getElementById(\"tensorboard-frame-abd04ad3cd82f7c9\");\n",
       "          const url = new URL(\"http://localhost\");\n",
       "          const port = 6006;\n",
       "          if (port) {\n",
       "            url.port = port;\n",
       "          }\n",
       "          frame.src = url;\n",
       "        })();\n",
       "      </script>\n",
       "    "
      ],
      "text/plain": [
       "<IPython.core.display.HTML object>"
      ]
     },
     "metadata": {},
     "output_type": "display_data"
    }
   ],
   "source": [
    "%tensorboard --logdir logs/\n"
   ]
  }
 ],
 "metadata": {
  "kernelspec": {
   "display_name": "Python 3",
   "language": "python",
   "name": "python3"
  },
  "language_info": {
   "codemirror_mode": {
    "name": "ipython",
    "version": 3
   },
   "file_extension": ".py",
   "mimetype": "text/x-python",
   "name": "python",
   "nbconvert_exporter": "python",
   "pygments_lexer": "ipython3",
   "version": "3.7.3"
  },
  "orig_nbformat": 4,
  "vscode": {
   "interpreter": {
    "hash": "7de009087c14368739d921be39497048758b81915a9c79786157b673b0f7b34f"
   }
  }
 },
 "nbformat": 4,
 "nbformat_minor": 2
}
