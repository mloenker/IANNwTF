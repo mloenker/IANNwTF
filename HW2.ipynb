{
 "cells": [
  {
   "cell_type": "code",
   "execution_count": 1,
   "id": "ee48a31b",
   "metadata": {},
   "outputs": [],
   "source": [
    "import numpy as np\n",
    "import matplotlib.pyplot as plt"
   ]
  },
  {
   "cell_type": "code",
   "execution_count": 2,
   "id": "4c1662a9",
   "metadata": {},
   "outputs": [],
   "source": [
    "#Input values\n",
    "x = np.random.rand(100,1)\n",
    "#Target values\n",
    "t = []\n",
    "for i in range(len(x)):\n",
    "    t.append(x[i]**3-x[i]**2)\n",
    "t= np.asarray(t)"
   ]
  },
  {
   "cell_type": "code",
   "execution_count": 3,
   "id": "aeaa2dcf",
   "metadata": {},
   "outputs": [],
   "source": [
    "#ReLU and ReLU derivative functions\n",
    "def relu(x):\n",
    "    return (np.where(x < 0.0, 0.0, x))\n",
    "    \n",
    "def der_relu(x):\n",
    "    return (np.where(x < 0.0, 0.0, 1))"
   ]
  },
  {
   "cell_type": "code",
   "execution_count": 4,
   "id": "7d5a1283",
   "metadata": {},
   "outputs": [],
   "source": [
    "class Layer:\n",
    "    \n",
    "    def __init__(self, n_units:int, input_units:int) -> None:\n",
    "         # weights\n",
    "        self.weights = np.random.randn(input_units,n_units)\n",
    "        # bias \n",
    "        self.biases = np.zeros(n_units)\n",
    "        # empty attributes for layer input, preactivation, and activation\n",
    "        self.layer_input = None\n",
    "        self.layer_preactivation = None\n",
    "        self.layer_activation = None\n",
    "        \n",
    "    def forward_step(self, inputs: np.array)-> np.array:\n",
    "        self.layer_input = inputs\n",
    "        # calculate the preactivation\n",
    "        self.layer_preactivation = (self.layer_input @ self.weights) + self.biases\n",
    "        # apply the activation function\n",
    "        self.layer_activation = relu(self.layer_preactivation)\n",
    "        return self.layer_activation\n",
    "    \n",
    "    def compute_gradients(self, dloss_dactivation: np.array) -> None:\n",
    "        # calculate the gradient w.r.t. the weights\n",
    "        self.dloss_dweights = self.layer_input.T @ (der_relu(self.layer_preactivation) * dloss_dactivation )\n",
    "        # calculate the gradient w.r.t. the bias vector\n",
    "        self.dloss_dbias = der_relu(self.layer_preactivation) * dloss_dactivation\n",
    "        # compute the gradient w.r.t. the layer input\n",
    "        self.dloss_dinput = (der_relu(self.layer_preactivation) * dloss_dactivation) @ self.weights.T\n",
    "\n",
    "    def update_parameters(self,learning_rate: float) -> None:\n",
    "        #update weights and biases\n",
    "        self.biases = self.biases - (self.dloss_dbias * learning_rate)\n",
    "        self.weights = self.weights - (self.dloss_dweights * learning_rate)\n",
    "\n",
    "    def backward_step(self, dloss_dactivation: np.array,learning_rate: float) -> np.array:\n",
    "        #combine gradients and update parameters\n",
    "        self.compute_gradients(dloss_dactivation)\n",
    "        self.update_parameters(learning_rate)\n",
    "        return self.dloss_dinput\n",
    "    "
   ]
  },
  {
   "cell_type": "code",
   "execution_count": 5,
   "id": "ec1f8e6a",
   "metadata": {},
   "outputs": [],
   "source": [
    "class MLP:\n",
    "   \n",
    "    def __init__(self, layers: list) -> None:\n",
    "        #layers in NN\n",
    "        self.layers = layers\n",
    "    \n",
    "    \n",
    "    def forward_step(self, net_input: np.array) -> np.array:\n",
    "        net_output = net_input\n",
    "        # pass input through whole network\n",
    "        for layer in self.layers:\n",
    "            net_output = layer.forward_step(net_output) \n",
    "        return net_output\n",
    "    \n",
    "    \n",
    "    def backpropagation(self, loss: np.array, learning_rate: float) -> None:\n",
    "        # propagate the error backwards\n",
    "        for layer in reversed(self.layers):\n",
    "            loss = layer.backward_step(loss, learning_rate)"
   ]
  },
  {
   "cell_type": "code",
   "execution_count": 6,
   "id": "952e5a1e",
   "metadata": {},
   "outputs": [],
   "source": [
    "def create_layers(input_dim: int, output_dim: int, hidden_layers: list)-> list:\n",
    "    \"\"\"\"\n",
    "    hidden_layers is a list of hidden layers reperesented by number of neurons e.g [10,20]\n",
    "    is 2 hidden layers with the first having 10 neurons and the second 20 neurons\n",
    "    \"\"\"\n",
    "    layers = []\n",
    "    # add hidden layers \n",
    "    previous_layer_dim = input_dim\n",
    "    \n",
    "    for layer_dim in hidden_layers:\n",
    "        layers.append(Layer(layer_dim, previous_layer_dim))\n",
    "        previous_layer_dim = layer_dim\n",
    "        \n",
    "    # add output layer at the end\n",
    "    layers.append(Layer(output_dim, previous_layer_dim))\n",
    "    return layers\n",
    "\n",
    "    "
   ]
  },
  {
   "cell_type": "code",
   "execution_count": 7,
   "id": "b8c8f898",
   "metadata": {},
   "outputs": [],
   "source": [
    "def training_plot(iterations: int, learning_rate: float, inputs: np.array, targets: np.array, layers: list)-> None:\n",
    "    epochs = []\n",
    "    avg_losses = []\n",
    "\n",
    "    mlp = MLP(layers)\n",
    "\n",
    "    # train the MLP\n",
    "    for i in range(iterations):\n",
    "        epochs.append(i)\n",
    "        mean_loss = 0\n",
    "        # iterate over all data points\n",
    "        for x_i, t_i in zip(inputs, targets):\n",
    "            # calculate prediction\n",
    "            prediction = mlp.forward_step(np.array([x_i]))\n",
    "            # calculate the loss\n",
    "            loss = (np.square(prediction - t_i))  / 2\n",
    "            loss = loss.reshape(-1)\n",
    "            mlp.backpropagation(loss, learning_rate)\n",
    "            mean_loss = mean_loss + loss\n",
    "        # save the average loss after every iteration\n",
    "        avg_losses.append(mean_loss)\n",
    "    \n",
    "    fig, ax = plt.subplots()\n",
    "    ax.plot(epochs, avg_losses)\n",
    "    ax.set(title = \"Training\", xlabel = \"Iteration\", ylabel = \"Loss\")\n",
    "    plt.show()"
   ]
  },
  {
   "cell_type": "code",
   "execution_count": 8,
   "id": "1dd81479",
   "metadata": {},
   "outputs": [
    {
     "data": {
      "image/png": "[encoded data removed]",
      "text/plain": [
       "<Figure size 640x480 with 1 Axes>"
      ]
     },
     "metadata": {},
     "output_type": "display_data"
    }
   ],
   "source": [
    "training_plot(1000,0.04,x,t,create_layers(1,1,[10]))"
   ]
  },
  {
   "cell_type": "code",
   "execution_count": null,
   "id": "6732e6df",
   "metadata": {},
   "outputs": [],
   "source": []
  }
 ],
 "metadata": {
  "kernelspec": {
   "display_name": "Python 3 (ipykernel)",
   "language": "python",
   "name": "python3"
  },
  "language_info": {
   "codemirror_mode": {
    "name": "ipython",
    "version": 3
   },
   "file_extension": ".py",
   "mimetype": "text/x-python",
   "name": "python",
   "nbconvert_exporter": "python",
   "pygments_lexer": "ipython3",
   "version": "3.9.13"
  }
 },
 "nbformat": 4,
 "nbformat_minor": 5
}
