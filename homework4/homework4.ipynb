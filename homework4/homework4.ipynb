{
 "cells": [
  {
   "cell_type": "markdown",
   "metadata": {},
   "source": [
    "# Homework 4"
   ]
  },
  {
   "cell_type": "code",
   "execution_count": 2,
   "metadata": {},
   "outputs": [
    {
     "name": "stderr",
     "output_type": "stream",
     "text": [
      "c:\\Users\\Moritz\\AppData\\Local\\Programs\\Python\\Python37\\lib\\site-packages\\tqdm\\auto.py:22: TqdmWarning: IProgress not found. Please update jupyter and ipywidgets. See https://ipywidgets.readthedocs.io/en/stable/user_install.html\n",
      "  from .autonotebook import tqdm as notebook_tqdm\n"
     ]
    }
   ],
   "source": [
    "#2.1\n",
    "import tensorflow_datasets as tfds\n",
    "import tensorflow as tf\n",
    "import numpy as np\n",
    "import matplotlib.pyplot as plt\n",
    "(train_ds, test_ds), ds_info = tfds.load('mnist', split =['train', 'test'], as_supervised = True, with_info = True)"
   ]
  },
  {
   "cell_type": "code",
   "execution_count": 3,
   "metadata": {},
   "outputs": [
    {
     "name": "stdout",
     "output_type": "stream",
     "text": [
      "WARNING:tensorflow:From c:\\Users\\Moritz\\AppData\\Local\\Programs\\Python\\Python37\\lib\\site-packages\\tensorflow\\python\\autograph\\pyct\\static_analysis\\liveness.py:83: Analyzer.lamba_check (from tensorflow.python.autograph.pyct.static_analysis.liveness) is deprecated and will be removed after 2023-09-23.\n",
      "Instructions for updating:\n",
      "Lambda fuctions will be no more assumed to be used in the statement where they are used, or at least in the same block. https://github.com/tensorflow/tensorflow/issues/56089\n"
     ]
    },
    {
     "name": "stderr",
     "output_type": "stream",
     "text": [
      "WARNING:tensorflow:From c:\\Users\\Moritz\\AppData\\Local\\Programs\\Python\\Python37\\lib\\site-packages\\tensorflow\\python\\autograph\\pyct\\static_analysis\\liveness.py:83: Analyzer.lamba_check (from tensorflow.python.autograph.pyct.static_analysis.liveness) is deprecated and will be removed after 2023-09-23.\n",
      "Instructions for updating:\n",
      "Lambda fuctions will be no more assumed to be used in the statement where they are used, or at least in the same block. https://github.com/tensorflow/tensorflow/issues/56089\n"
     ]
    }
   ],
   "source": [
    "def prepare_mnist(mnist):\n",
    "    mnist = mnist.map(lambda img, target: (tf.cast(img, tf.float32), target))\n",
    "    mnist = mnist.map(lambda img, target: (tf.reshape(img, (-1,)), target))\n",
    "    mnist = mnist.map(lambda img, target: ((img/128.)-1., target))\n",
    "    #mnist = mnist.map(lambda img, target: (img, tf.one_hot(target, depth=10)))\n",
    "    mnist = mnist.shuffle(1000)\n",
    "    #mnist = mnist.batch(64)\n",
    "    mnist = mnist.prefetch(20)\n",
    "    return mnist\n",
    "\n",
    "train_ds = train_ds.apply(prepare_mnist)\n",
    "test_ds = test_ds.apply(prepare_mnist)\n"
   ]
  },
  {
   "cell_type": "code",
   "execution_count": 46,
   "metadata": {},
   "outputs": [
    {
     "name": "stdout",
     "output_type": "stream",
     "text": [
      "<TakeDataset element_spec=(TensorSpec(shape=(None, 784), dtype=tf.float32, name=None), TensorSpec(shape=(None, 784), dtype=tf.float32, name=None), TensorSpec(shape=(None,), dtype=tf.int32, name=None))>\n"
     ]
    },
    {
     "data": {
      "text/plain": [
       "'\\nfor element1, element2, label in train_dataset_greater.take(1):\\n    img1 = np.asarray(element1).reshape((28,28))\\n    img2 = np.asarray(element2).reshape((28,28))\\n    plt.imshow(img1)\\n    plt.show()\\n    plt.imshow(img2)\\n    plt.show()\\n    print(np.asarray(label))\\n'"
      ]
     },
     "execution_count": 46,
     "metadata": {},
     "output_type": "execute_result"
    }
   ],
   "source": [
    "def preprocessing_subtract(mnist):\n",
    "    zipped_mnist = tf.data.Dataset.zip((mnist, mnist))\n",
    "    zipped_mnist = zipped_mnist.map(lambda x1, x2: (x1[0], x2[0], x1[1]-x2[1]+9))\n",
    "    zipped_mnist = zipped_mnist.map(lambda x1, x2, target: (x1, x2, tf.one_hot(target, depth=20)))\n",
    "    zipped_mnist = zipped_mnist.batch(32)\n",
    "    return zipped_mnist\n",
    "\n",
    "def preprocessing_greater(mnist):\n",
    "    zipped_mnist = tf.data.Dataset.zip((mnist, mnist))\n",
    "    zipped_mnist = zipped_mnist.map(lambda x1, x2: (x1[0], x2[0], x1[1]+x2[1]>=5))\n",
    "    zipped_mnist = zipped_mnist.map(lambda x1, x2, t: (x1,x2, tf.cast(t, tf.int32)))\n",
    "    zipped_mnist = zipped_mnist.batch(32)\n",
    "    return zipped_mnist\n",
    "\n",
    "train_dataset_subtract = train_ds.apply(preprocessing_subtract)\n",
    "test_dataset_subtract = test_ds.apply(preprocessing_subtract)\n",
    "\n",
    "train_dataset_greater = train_ds.apply(preprocessing_greater)\n",
    "test_dataset_greater = test_ds.apply(preprocessing_greater)\n",
    "\n",
    "print(train_dataset_greater.take(1))\n",
    "\n",
    "'''\n",
    "for element1, element2, label in train_dataset_greater.take(1):\n",
    "    img1 = np.asarray(element1).reshape((28,28))\n",
    "    img2 = np.asarray(element2).reshape((28,28))\n",
    "    plt.imshow(img1)\n",
    "    plt.show()\n",
    "    plt.imshow(img2)\n",
    "    plt.show()\n",
    "    print(np.asarray(label))\n",
    "'''\n"
   ]
  },
  {
   "cell_type": "markdown",
   "metadata": {},
   "source": [
    "## 3"
   ]
  },
  {
   "cell_type": "code",
   "execution_count": 47,
   "metadata": {},
   "outputs": [],
   "source": [
    "class TwinModel(tf.keras.Model):\n",
    "    def __init__(self):\n",
    "        super(TwinModel, self).__init__()\n",
    "        self.optimizer = tf.keras.optimizers.Adam()\n",
    "        self.loss_function = tf.keras.losses.BinaryCrossentropy()\n",
    "\n",
    "        self.dense1 = tf.keras.layers.Dense(128, activation=tf.nn.relu)\n",
    "        self.dense2 = tf.keras.layers.Dense(64, activation=tf.nn.relu)\n",
    "        self.out = tf.keras.layers.Dense(1,activation=tf.nn.sigmoid)\n",
    "\n",
    "    @tf.function\n",
    "    def call(self, images):\n",
    "        img1, img2 = images\n",
    "        \n",
    "        img1_x = self.dense1(img1)\n",
    "        img1_x = self.dense2(img1_x)\n",
    "        \n",
    "        img2_x = self.dense1(img2)\n",
    "        img2_x = self.dense2(img2_x)\n",
    "        \n",
    "        combined_x = tf.concat([img1_x, img2_x ], axis=1)\n",
    "        \n",
    "        return self.out(combined_x)\n"
   ]
  },
  {
   "cell_type": "code",
   "execution_count": 48,
   "metadata": {},
   "outputs": [],
   "source": [
    "class TwinModelSubtract(tf.keras.Model):\n",
    "    def __init__(self):\n",
    "        super(TwinModelSubtract, self).__init__()\n",
    "        self.optimizer = tf.keras.optimizers.Adam()\n",
    "        self.loss_function = tf.keras.losses.BinaryCrossentropy()\n",
    "\n",
    "        self.dense1 = tf.keras.layers.Dense(128, activation=tf.nn.relu)\n",
    "        self.dense2 = tf.keras.layers.Dense(64, activation=tf.nn.relu)\n",
    "        self.out = tf.keras.layers.Dense(20, activation=tf.nn.softmax)\n",
    "\n",
    "    @tf.function\n",
    "    def call(self, images):\n",
    "        img1, img2 = images\n",
    "        \n",
    "        img1_x = self.dense1(img1)\n",
    "        img1_x = self.dense2(img1_x)\n",
    "        \n",
    "        img2_x = self.dense1(img2)\n",
    "        img2_x = self.dense2(img2_x)\n",
    "        \n",
    "        combined_x = tf.concat([img1_x, img2_x ], axis=1)\n",
    "        \n",
    "        return self.out(combined_x)\n"
   ]
  },
  {
   "cell_type": "code",
   "execution_count": 61,
   "metadata": {},
   "outputs": [],
   "source": [
    "def train_step(model, data):\n",
    "    img1, img2, label = data\n",
    "    \n",
    "    with tf.GradientTape() as tape:\n",
    "        output = model((img1, img2))\n",
    "        loss = model.loss_function(label, output)\n",
    "        gradients = tape.gradient(loss, model.trainable_variables)\n",
    "    model.optimizer.apply_gradients(zip(gradients, model.trainable_variables))\n",
    "    return loss\n",
    "\n",
    "def test_model(model, test_data, operation):\n",
    "    test_accuracy_aggregator = []\n",
    "\n",
    "    for (img1, img2, target) in test_data:\n",
    "        prediction = model((img1, img2), training=False)\n",
    "        #print(np.reshape(np.around(prediction),(-1)).astype(\"int\"))\n",
    "        #print(np.around(prediction))\n",
    "        #print(np.asarray(target))\n",
    "        #sample_test_accuracy = np.asarray(target) == np.reshape(np.around(prediction),(-1))\n",
    "        #print(np.argmax(target, axis=1))\n",
    "        #print(np.argmax(prediction, axis=1))\n",
    "        if operation == \"subtract\":\n",
    "            sample_test_accuracy = np.argmax(target, axis=1) == np.argmax(prediction, axis=1)\n",
    "        elif operation == \"greater\":\n",
    "            sample_test_accuracy = np.asarray(target) == np.reshape(np.around(prediction),(-1))\n",
    "        #print(sample_test_accuracy)\n",
    "        sample_test_accuracy = np.mean(sample_test_accuracy)\n",
    "        test_accuracy_aggregator.append(np.mean(sample_test_accuracy))\n",
    "\n",
    "    test_accuracy = tf.reduce_mean(test_accuracy_aggregator)\n",
    "\n",
    "    return test_accuracy\n",
    "\n",
    "def train_loop(model, train_data, test_data, operation=\"lol\", epochs=10):\n",
    "    for epoch in range(1,epochs+1):\n",
    "        epoch_loss = []\n",
    "        for input in train_data:\n",
    "            epoch_loss.append(train_step(model, input))\n",
    "        test_accuracy = test_model(model, test_data, operation)\n",
    "        print(\"Epoch: \", epoch, \"Loss: \", np.asarray(tf.reduce_mean(epoch_loss)), \"Accuracy: \", np.asarray(test_accuracy))\n"
   ]
  },
  {
   "cell_type": "code",
   "execution_count": 62,
   "metadata": {},
   "outputs": [
    {
     "name": "stdout",
     "output_type": "stream",
     "text": [
      "Epoch:  1 Loss:  0.19634125 Accuracy:  0.9468849840255591\n",
      "Epoch:  2 Loss:  0.12687847 Accuracy:  0.9626597444089456\n",
      "Epoch:  3 Loss:  0.11635615 Accuracy:  0.9575678913738019\n",
      "Epoch:  4 Loss:  0.10455334 Accuracy:  0.9665535143769968\n"
     ]
    }
   ],
   "source": [
    "twinmodel_greater = TwinModel()\n",
    "train_loop(twinmodel_greater, train_dataset_greater, test_dataset_greater, \"greater\", 5)"
   ]
  },
  {
   "cell_type": "code",
   "execution_count": 64,
   "metadata": {},
   "outputs": [
    {
     "name": "stdout",
     "output_type": "stream",
     "text": [
      "Epoch:  1 Loss:  0.14998612 Accuracy:  0.3442492012779553\n",
      "Epoch:  2 Loss:  0.12451054 Accuracy:  0.41813099041533547\n",
      "Epoch:  3 Loss:  0.11491057 Accuracy:  0.4858226837060703\n",
      "Epoch:  4 Loss:  0.10871638 Accuracy:  0.4910143769968051\n",
      "Epoch:  5 Loss:  0.10436789 Accuracy:  0.5316493610223643\n",
      "Epoch:  6 Loss:  0.10027262 Accuracy:  0.5786741214057508\n",
      "Epoch:  7 Loss:  0.09699908 Accuracy:  0.5972444089456869\n",
      "Epoch:  8 Loss:  0.09437334 Accuracy:  0.6116214057507987\n",
      "Epoch:  9 Loss:  0.09195924 Accuracy:  0.6508586261980831\n",
      "Epoch:  10 Loss:  0.08979086 Accuracy:  0.6649361022364217\n",
      "Epoch:  11 Loss:  0.08725786 Accuracy:  0.6882987220447284\n",
      "Epoch:  12 Loss:  0.08590402 Accuracy:  0.6847044728434505\n",
      "Epoch:  13 Loss:  0.084022306 Accuracy:  0.6844049520766773\n",
      "Epoch:  14 Loss:  0.08255156 Accuracy:  0.7042731629392971\n",
      "Epoch:  15 Loss:  0.08118219 Accuracy:  0.6957867412140575\n",
      "Epoch:  16 Loss:  0.07975053 Accuracy:  0.7515974440894568\n",
      "Epoch:  17 Loss:  0.07895512 Accuracy:  0.7304313099041534\n",
      "Epoch:  18 Loss:  0.076889254 Accuracy:  0.7641773162939297\n",
      "Epoch:  19 Loss:  0.076448895 Accuracy:  0.7582867412140575\n"
     ]
    }
   ],
   "source": [
    "twinmodel_subtract = TwinModelSubtract()\n",
    "train_loop(twinmodel_subtract, train_dataset_subtract, test_dataset_subtract, \"subtract\", 20)"
   ]
  },
  {
   "cell_type": "markdown",
   "metadata": {},
   "source": [
    "**Sample prediction for greater network**"
   ]
  },
  {
   "cell_type": "code",
   "execution_count": 141,
   "metadata": {},
   "outputs": [
    {
     "name": "stdout",
     "output_type": "stream",
     "text": [
      "1/1 [==============================] - 0s 18ms/step\n"
     ]
    },
    {
     "data": {
      "image/png": "[encoded data removed]",
      "text/plain": [
       "<Figure size 432x288 with 2 Axes>"
      ]
     },
     "metadata": {
      "needs_background": "light"
     },
     "output_type": "display_data"
    }
   ],
   "source": [
    "for img1, img2, label in test_dataset_greater.take(1):\n",
    "    result = twinmodel_greater.predict((img1, img2))\n",
    "    img1 = np.reshape(img1, (32, 28, 28))\n",
    "    img2 = np.reshape(img2, (32, 28, 28))\n",
    "    fig, ax = plt.subplots(1,2)\n",
    "    fig.suptitle(\"Prediction: \"+str(bool(np.around(result[0])))+\" | Label: \"+str(bool(np.asarray((label)[0]))))\n",
    "    ax[0].imshow(img1[0])\n",
    "    ax[1].imshow(img2[0])\n",
    "    \n"
   ]
  },
  {
   "cell_type": "markdown",
   "metadata": {},
   "source": [
    "**Sample prediction for subtract network**"
   ]
  },
  {
   "cell_type": "code",
   "execution_count": 142,
   "metadata": {},
   "outputs": [
    {
     "name": "stdout",
     "output_type": "stream",
     "text": [
      "1/1 [==============================] - 0s 19ms/step\n"
     ]
    },
    {
     "data": {
      "image/png": "[encoded data removed]",
      "text/plain": [
       "<Figure size 432x288 with 2 Axes>"
      ]
     },
     "metadata": {
      "needs_background": "light"
     },
     "output_type": "display_data"
    }
   ],
   "source": [
    "for img1, img2, label in test_dataset_subtract.take(1):\n",
    "    result = twinmodel_subtract.predict((img1, img2))\n",
    "    img1 = np.reshape(img1, (32, 28, 28))\n",
    "    img2 = np.reshape(img2, (32, 28, 28))\n",
    "    fig, ax = plt.subplots(1,2)\n",
    "    fig.suptitle(\"Prediction: \"+str(np.argmax(result[0])-9)+\" | Label: \"+str(np.argmax((label)[0])-9))\n",
    "    ax[0].imshow(img1[0])\n",
    "    ax[1].imshow(img2[0])\n",
    "    "
   ]
  }
 ],
 "metadata": {
  "kernelspec": {
   "display_name": "Python 3.7.3 64-bit",
   "language": "python",
   "name": "python3"
  },
  "language_info": {
   "codemirror_mode": {
    "name": "ipython",
    "version": 3
   },
   "file_extension": ".py",
   "mimetype": "text/x-python",
   "name": "python",
   "nbconvert_exporter": "python",
   "pygments_lexer": "ipython3",
   "version": "3.7.3"
  },
  "orig_nbformat": 4,
  "vscode": {
   "interpreter": {
    "hash": "7de009087c14368739d921be39497048758b81915a9c79786157b673b0f7b34f"
   }
  }
 },
 "nbformat": 4,
 "nbformat_minor": 2
}
